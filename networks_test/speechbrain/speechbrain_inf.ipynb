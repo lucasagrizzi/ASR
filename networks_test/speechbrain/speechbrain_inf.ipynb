{
 "cells": [
  {
   "cell_type": "code",
   "execution_count": 1,
   "metadata": {},
   "outputs": [],
   "source": [
    "from speechbrain.pretrained import EncoderDecoderASR\n",
    "from datasets import load_dataset\n",
    "import soundfile as sf\n",
    "from jiwer import wer\n",
    "import time\n",
    "import torch\n",
    "\n",
    "import numpy as np\n",
    "import pandas as pd"
   ]
  },
  {
   "cell_type": "code",
   "execution_count": 2,
   "metadata": {},
   "outputs": [],
   "source": [
    "PATH_TRANSCRIPTIONS = \"transcriptions.csv\""
   ]
  },
  {
   "cell_type": "code",
   "execution_count": 3,
   "metadata": {},
   "outputs": [],
   "source": [
    "pre_train_file = \"speechbrain/asr-crdnn-rnnlm-librispeech\"\n",
    "asr_model = EncoderDecoderASR.from_hparams(source=pre_train_file, savedir=\"pretrained_models/asr-crdnn-rnnlm-librispeech\")\n",
    "# asr_model.transcribe_file('speechbrain/asr-crdnn-rnnlm-librispeech/example.wav')\n"
   ]
  },
  {
   "cell_type": "code",
   "execution_count": 4,
   "metadata": {},
   "outputs": [
    {
     "name": "stderr",
     "output_type": "stream",
     "text": [
      "Reusing dataset librispeech_asr (/Users/lucasagrizzi/.cache/huggingface/datasets/patrickvonplaten___librispeech_asr/clean/2.1.0/f2c70a4d03ab4410954901bde48c54b85ca1b7f9bf7d616e7e2a72b5ee6ddbfc)\n",
      "Loading cached processed dataset at /Users/lucasagrizzi/.cache/huggingface/datasets/patrickvonplaten___librispeech_asr/clean/2.1.0/f2c70a4d03ab4410954901bde48c54b85ca1b7f9bf7d616e7e2a72b5ee6ddbfc/cache-9d56804bc919a18f.arrow\n"
     ]
    }
   ],
   "source": [
    "def map_to_array(batch):\n",
    "    speech, _ = sf.read(batch[\"file\"])\n",
    "    batch[\"speech\"] = speech\n",
    "    return batch\n",
    "\n",
    "ds = load_dataset(\n",
    "    \"patrickvonplaten/librispeech_asr_dummy\",\n",
    "    \"clean\",\n",
    "    split=\"validation\"\n",
    ")\n",
    "ds = ds.map(map_to_array)"
   ]
  },
  {
   "cell_type": "code",
   "execution_count": 5,
   "metadata": {},
   "outputs": [],
   "source": [
    "all_transcriptions = []\n",
    "inference_time = []\n",
    "texts = []\n",
    "wav_lens=torch.tensor([1.0])\n",
    "\n",
    "\n",
    "len_ds = len(ds[\"speech\"])\n",
    "BATCH_SIZE = 1\n",
    "\n",
    "for i in range(len_ds//BATCH_SIZE):\n",
    "    texts.append(ds[\"text\"][i])\n",
    "    audio = torch.tensor(ds['speech'][i]).reshape(1,-1)\n",
    "\n",
    "    start = time.time()\n",
    "\n",
    "    transcription = asr_model.transcribe_batch(audio, wav_lens)\n",
    "\n",
    "    inference_time.append(time.time() - start)\n",
    "    all_transcriptions.append(transcription[0])\n",
    "\n",
    "all_transcriptions = list(np.array(all_transcriptions).reshape(-1))"
   ]
  },
  {
   "cell_type": "code",
   "execution_count": 6,
   "metadata": {},
   "outputs": [
    {
     "data": {
      "text/html": [
       "<div>\n",
       "<style scoped>\n",
       "    .dataframe tbody tr th:only-of-type {\n",
       "        vertical-align: middle;\n",
       "    }\n",
       "\n",
       "    .dataframe tbody tr th {\n",
       "        vertical-align: top;\n",
       "    }\n",
       "\n",
       "    .dataframe thead th {\n",
       "        text-align: right;\n",
       "    }\n",
       "</style>\n",
       "<table border=\"1\" class=\"dataframe\">\n",
       "  <thead>\n",
       "    <tr style=\"text-align: right;\">\n",
       "      <th></th>\n",
       "      <th>speechbrain/asr-crdnn-rnnlm-librispeech</th>\n",
       "      <th>speechbrain/asr-crdnn-rnnlm-librispeech_inf_time</th>\n",
       "      <th>ground_truth</th>\n",
       "    </tr>\n",
       "  </thead>\n",
       "  <tbody>\n",
       "    <tr>\n",
       "      <th>0</th>\n",
       "      <td>A MAN SAID TO THE UNIVERSE SIR I EXIST</td>\n",
       "      <td>7.215630</td>\n",
       "      <td>A MAN SAID TO THE UNIVERSE SIR I EXIST</td>\n",
       "    </tr>\n",
       "    <tr>\n",
       "      <th>1</th>\n",
       "      <td>SWEAT COVERED BRIAN'S BODY TRICKLING INTO THE ...</td>\n",
       "      <td>21.831181</td>\n",
       "      <td>SWEAT COVERED BRION'S BODY TRICKLING INTO THE ...</td>\n",
       "    </tr>\n",
       "    <tr>\n",
       "      <th>2</th>\n",
       "      <td>THE CUT ON HIS CHEST STILL DRIPPING BLOOD THE ...</td>\n",
       "      <td>29.324319</td>\n",
       "      <td>THE CUT ON HIS CHEST STILL DRIPPING BLOOD THE ...</td>\n",
       "    </tr>\n",
       "    <tr>\n",
       "      <th>3</th>\n",
       "      <td>HIS INSTANT PANIC WAS FOLLOWED BY A SMALL SHAR...</td>\n",
       "      <td>10.128328</td>\n",
       "      <td>HIS INSTANT OF PANIC WAS FOLLOWED BY A SMALL S...</td>\n",
       "    </tr>\n",
       "    <tr>\n",
       "      <th>4</th>\n",
       "      <td>ONE MINUTE A VOICE SAID AND THE TIME BUZZER SO...</td>\n",
       "      <td>7.656298</td>\n",
       "      <td>ONE MINUTE A VOICE SAID AND THE TIME BUZZER SO...</td>\n",
       "    </tr>\n",
       "    <tr>\n",
       "      <th>...</th>\n",
       "      <td>...</td>\n",
       "      <td>...</td>\n",
       "      <td>...</td>\n",
       "    </tr>\n",
       "    <tr>\n",
       "      <th>68</th>\n",
       "      <td>I DON'T BELIEVE ANNE KNEW ANY MAGIC OR SEED OF...</td>\n",
       "      <td>9.845124</td>\n",
       "      <td>I DON'T BELIEVE ANN KNEW ANY MAGIC OR SHE'D HA...</td>\n",
       "    </tr>\n",
       "    <tr>\n",
       "      <th>69</th>\n",
       "      <td>I DO NOT KNOW CONFESSED SHAGGY</td>\n",
       "      <td>5.897659</td>\n",
       "      <td>I DO NOT KNOW CONFESSED SHAGGY</td>\n",
       "    </tr>\n",
       "    <tr>\n",
       "      <th>70</th>\n",
       "      <td>TRUE AGREED CALICO</td>\n",
       "      <td>3.981032</td>\n",
       "      <td>TRUE AGREED KALIKO</td>\n",
       "    </tr>\n",
       "    <tr>\n",
       "      <th>71</th>\n",
       "      <td>CALICO WENT TO THE BIG GONG AND POUNDED ON IT ...</td>\n",
       "      <td>17.238874</td>\n",
       "      <td>KALIKO WENT TO THE BIG GONG AND POUNDED ON IT ...</td>\n",
       "    </tr>\n",
       "    <tr>\n",
       "      <th>72</th>\n",
       "      <td>HAVING RETURNED TO THE ROYAL CAVERN CALICO FIR...</td>\n",
       "      <td>40.406666</td>\n",
       "      <td>HAVING RETURNED TO THE ROYAL CAVERN KALIKO FIR...</td>\n",
       "    </tr>\n",
       "  </tbody>\n",
       "</table>\n",
       "<p>73 rows × 3 columns</p>\n",
       "</div>"
      ],
      "text/plain": [
       "              speechbrain/asr-crdnn-rnnlm-librispeech  \\\n",
       "0              A MAN SAID TO THE UNIVERSE SIR I EXIST   \n",
       "1   SWEAT COVERED BRIAN'S BODY TRICKLING INTO THE ...   \n",
       "2   THE CUT ON HIS CHEST STILL DRIPPING BLOOD THE ...   \n",
       "3   HIS INSTANT PANIC WAS FOLLOWED BY A SMALL SHAR...   \n",
       "4   ONE MINUTE A VOICE SAID AND THE TIME BUZZER SO...   \n",
       "..                                                ...   \n",
       "68  I DON'T BELIEVE ANNE KNEW ANY MAGIC OR SEED OF...   \n",
       "69                     I DO NOT KNOW CONFESSED SHAGGY   \n",
       "70                                 TRUE AGREED CALICO   \n",
       "71  CALICO WENT TO THE BIG GONG AND POUNDED ON IT ...   \n",
       "72  HAVING RETURNED TO THE ROYAL CAVERN CALICO FIR...   \n",
       "\n",
       "    speechbrain/asr-crdnn-rnnlm-librispeech_inf_time  \\\n",
       "0                                           7.215630   \n",
       "1                                          21.831181   \n",
       "2                                          29.324319   \n",
       "3                                          10.128328   \n",
       "4                                           7.656298   \n",
       "..                                               ...   \n",
       "68                                          9.845124   \n",
       "69                                          5.897659   \n",
       "70                                          3.981032   \n",
       "71                                         17.238874   \n",
       "72                                         40.406666   \n",
       "\n",
       "                                         ground_truth  \n",
       "0              A MAN SAID TO THE UNIVERSE SIR I EXIST  \n",
       "1   SWEAT COVERED BRION'S BODY TRICKLING INTO THE ...  \n",
       "2   THE CUT ON HIS CHEST STILL DRIPPING BLOOD THE ...  \n",
       "3   HIS INSTANT OF PANIC WAS FOLLOWED BY A SMALL S...  \n",
       "4   ONE MINUTE A VOICE SAID AND THE TIME BUZZER SO...  \n",
       "..                                                ...  \n",
       "68  I DON'T BELIEVE ANN KNEW ANY MAGIC OR SHE'D HA...  \n",
       "69                     I DO NOT KNOW CONFESSED SHAGGY  \n",
       "70                                 TRUE AGREED KALIKO  \n",
       "71  KALIKO WENT TO THE BIG GONG AND POUNDED ON IT ...  \n",
       "72  HAVING RETURNED TO THE ROYAL CAVERN KALIKO FIR...  \n",
       "\n",
       "[73 rows x 3 columns]"
      ]
     },
     "execution_count": 6,
     "metadata": {},
     "output_type": "execute_result"
    }
   ],
   "source": [
    "# df_transcriptions = pd.read_csv(PATH_TRANSCRIPTIONS, index_col=0)\n",
    "df_transcriptions = pd.DataFrame()\n",
    "\n",
    "df_transcriptions[pre_train_file] = all_transcriptions\n",
    "df_transcriptions[pre_train_file] = df_transcriptions[pre_train_file].apply(lambda x: x.upper())\n",
    "df_transcriptions[pre_train_file + \"_inf_time\"] = inference_time\n",
    "df_transcriptions['ground_truth'] = texts\n",
    "\n",
    "df_transcriptions"
   ]
  },
  {
   "cell_type": "code",
   "execution_count": 7,
   "metadata": {},
   "outputs": [],
   "source": [
    "df_transcriptions.to_csv(PATH_TRANSCRIPTIONS)"
   ]
  }
 ],
 "metadata": {
  "interpreter": {
   "hash": "e23bc47c7a784f4ee6d2f7dfec9e64dd55a69414c2f4c7fb2f7f6d69e7fb8095"
  },
  "kernelspec": {
   "display_name": "Python 3.8.5 ('speechbrain')",
   "language": "python",
   "name": "python3"
  },
  "language_info": {
   "codemirror_mode": {
    "name": "ipython",
    "version": 3
   },
   "file_extension": ".py",
   "mimetype": "text/x-python",
   "name": "python",
   "nbconvert_exporter": "python",
   "pygments_lexer": "ipython3",
   "version": "3.8.5"
  },
  "orig_nbformat": 4
 },
 "nbformat": 4,
 "nbformat_minor": 2
}
