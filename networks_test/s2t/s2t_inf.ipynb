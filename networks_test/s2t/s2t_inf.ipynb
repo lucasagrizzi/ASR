{
 "cells": [
  {
   "cell_type": "code",
   "execution_count": 1,
   "metadata": {},
   "outputs": [],
   "source": [
    "import torch\n",
    "from transformers import Speech2TextProcessor, Speech2TextForConditionalGeneration\n",
    "from datasets import load_dataset\n",
    "import soundfile as sf\n",
    "import time\n",
    "from jiwer import wer\n",
    "import time\n",
    "\n",
    "import numpy as np\n",
    "import pandas as pd"
   ]
  },
  {
   "cell_type": "code",
   "execution_count": 2,
   "metadata": {},
   "outputs": [],
   "source": [
    "PATH_TRANSCRIPTIONS = \"transcriptions.csv\""
   ]
  },
  {
   "cell_type": "code",
   "execution_count": 3,
   "metadata": {},
   "outputs": [],
   "source": [
    "pre_train_file = \"facebook/s2t-large-librispeech-asr\"\n",
    "model = Speech2TextForConditionalGeneration.from_pretrained(pre_train_file)\n",
    "processor = Speech2TextProcessor.from_pretrained(pre_train_file)\n",
    "\n"
   ]
  },
  {
   "cell_type": "code",
   "execution_count": 4,
   "metadata": {},
   "outputs": [
    {
     "name": "stderr",
     "output_type": "stream",
     "text": [
      "Reusing dataset librispeech_asr (/Users/lucasagrizzi/.cache/huggingface/datasets/patrickvonplaten___librispeech_asr/clean/2.1.0/f2c70a4d03ab4410954901bde48c54b85ca1b7f9bf7d616e7e2a72b5ee6ddbfc)\n",
      "Loading cached processed dataset at /Users/lucasagrizzi/.cache/huggingface/datasets/patrickvonplaten___librispeech_asr/clean/2.1.0/f2c70a4d03ab4410954901bde48c54b85ca1b7f9bf7d616e7e2a72b5ee6ddbfc/cache-9d56804bc919a18f.arrow\n"
     ]
    }
   ],
   "source": [
    "def map_to_array(batch):\n",
    "    speech, _ = sf.read(batch[\"file\"])\n",
    "    batch[\"speech\"] = speech\n",
    "    return batch\n",
    "\n",
    "ds = load_dataset(\n",
    "    \"patrickvonplaten/librispeech_asr_dummy\",\n",
    "    \"clean\",\n",
    "    split=\"validation\"\n",
    ")\n",
    "ds = ds.map(map_to_array)"
   ]
  },
  {
   "cell_type": "code",
   "execution_count": 5,
   "metadata": {},
   "outputs": [
    {
     "name": "stderr",
     "output_type": "stream",
     "text": [
      "/Users/lucasagrizzi/opt/anaconda3/envs/s2t/lib/python3.8/site-packages/transformers/models/speech_to_text/modeling_speech_to_text.py:566: UserWarning: __floordiv__ is deprecated, and its behavior will change in a future version of pytorch. It currently rounds toward 0 (like the 'trunc' function NOT 'floor'). This results in incorrect rounding for negative values. To keep the current behavior, use torch.div(a, b, rounding_mode='trunc'), or for actual floor division, use torch.div(a, b, rounding_mode='floor').\n",
      "  input_lengths = (input_lengths - 1) // 2 + 1\n"
     ]
    }
   ],
   "source": [
    "all_transcriptions = []\n",
    "inference_time = []\n",
    "texts = []\n",
    "\n",
    "len_ds = len(ds[\"speech\"])\n",
    "BATCH_SIZE = 1\n",
    "\n",
    "for i in range(len_ds//BATCH_SIZE):\n",
    "    \n",
    "    texts.append(ds[\"text\"][i])\n",
    "    audio = ds[\"speech\"][i*BATCH_SIZE:(i+1)*BATCH_SIZE]\n",
    "    \n",
    "    start = time.time()\n",
    "\n",
    "    input_features = processor(\n",
    "        audio,\n",
    "        sampling_rate=16000,\n",
    "        return_tensors=\"pt\",\n",
    "        padding=True\n",
    "    ).input_features \n",
    "    with torch.no_grad():\n",
    "        generated_ids = model.generate(input_features)\n",
    "\n",
    "    transcription = processor.batch_decode(generated_ids)\n",
    "\n",
    "    inference_time.append(time.time() - start)\n",
    "\n",
    "    all_transcriptions.append(transcription)\n",
    "\n",
    "all_transcriptions = list(np.array(all_transcriptions).reshape(-1))\n"
   ]
  },
  {
   "cell_type": "code",
   "execution_count": 6,
   "metadata": {},
   "outputs": [
    {
     "data": {
      "text/html": [
       "<div>\n",
       "<style scoped>\n",
       "    .dataframe tbody tr th:only-of-type {\n",
       "        vertical-align: middle;\n",
       "    }\n",
       "\n",
       "    .dataframe tbody tr th {\n",
       "        vertical-align: top;\n",
       "    }\n",
       "\n",
       "    .dataframe thead th {\n",
       "        text-align: right;\n",
       "    }\n",
       "</style>\n",
       "<table border=\"1\" class=\"dataframe\">\n",
       "  <thead>\n",
       "    <tr style=\"text-align: right;\">\n",
       "      <th></th>\n",
       "      <th>facebook/s2t-large-librispeech-asr</th>\n",
       "      <th>facebook/s2t-large-librispeech-asr_inf_time</th>\n",
       "      <th>ground_truth</th>\n",
       "    </tr>\n",
       "  </thead>\n",
       "  <tbody>\n",
       "    <tr>\n",
       "      <th>0</th>\n",
       "      <td>A MAN SAID TO THE UNIVERSE SIR I EXIST</td>\n",
       "      <td>2.873919</td>\n",
       "      <td>A MAN SAID TO THE UNIVERSE SIR I EXIST</td>\n",
       "    </tr>\n",
       "    <tr>\n",
       "      <th>1</th>\n",
       "      <td>SWEAT COVERED BRION'S BODY TRICKLING INTO THE ...</td>\n",
       "      <td>3.680889</td>\n",
       "      <td>SWEAT COVERED BRION'S BODY TRICKLING INTO THE ...</td>\n",
       "    </tr>\n",
       "    <tr>\n",
       "      <th>2</th>\n",
       "      <td>THE CUT ON HIS CHEST STILL DRIPPING BLOOD THE ...</td>\n",
       "      <td>7.644466</td>\n",
       "      <td>THE CUT ON HIS CHEST STILL DRIPPING BLOOD THE ...</td>\n",
       "    </tr>\n",
       "    <tr>\n",
       "      <th>3</th>\n",
       "      <td>HIS INSTANT PANIC WAS FOLLOWED BY A SMALL SHAR...</td>\n",
       "      <td>3.364908</td>\n",
       "      <td>HIS INSTANT OF PANIC WAS FOLLOWED BY A SMALL S...</td>\n",
       "    </tr>\n",
       "    <tr>\n",
       "      <th>4</th>\n",
       "      <td>ONE MINUTE A VOICE SAID AND A TIME BUZZER SOUNDED</td>\n",
       "      <td>2.906659</td>\n",
       "      <td>ONE MINUTE A VOICE SAID AND THE TIME BUZZER SO...</td>\n",
       "    </tr>\n",
       "    <tr>\n",
       "      <th>...</th>\n",
       "      <td>...</td>\n",
       "      <td>...</td>\n",
       "      <td>...</td>\n",
       "    </tr>\n",
       "    <tr>\n",
       "      <th>68</th>\n",
       "      <td>I DON'T BELIEVE ANNE KNEW ANY MAGIC OR SHE'D H...</td>\n",
       "      <td>2.605747</td>\n",
       "      <td>I DON'T BELIEVE ANN KNEW ANY MAGIC OR SHE'D HA...</td>\n",
       "    </tr>\n",
       "    <tr>\n",
       "      <th>69</th>\n",
       "      <td>I DO NOT KNOW CONFESSED SHAGGY</td>\n",
       "      <td>1.352835</td>\n",
       "      <td>I DO NOT KNOW CONFESSED SHAGGY</td>\n",
       "    </tr>\n",
       "    <tr>\n",
       "      <th>70</th>\n",
       "      <td>TRUE AGREED KALIKO</td>\n",
       "      <td>1.373060</td>\n",
       "      <td>TRUE AGREED KALIKO</td>\n",
       "    </tr>\n",
       "    <tr>\n",
       "      <th>71</th>\n",
       "      <td>KALIKO WENT TO THE BIG GONG AND POUNDED ON IT ...</td>\n",
       "      <td>4.733405</td>\n",
       "      <td>KALIKO WENT TO THE BIG GONG AND POUNDED ON IT ...</td>\n",
       "    </tr>\n",
       "    <tr>\n",
       "      <th>72</th>\n",
       "      <td>HAVING RETURNED TO THE ROYAL CAVERN KALIKO FIR...</td>\n",
       "      <td>8.857709</td>\n",
       "      <td>HAVING RETURNED TO THE ROYAL CAVERN KALIKO FIR...</td>\n",
       "    </tr>\n",
       "  </tbody>\n",
       "</table>\n",
       "<p>73 rows × 3 columns</p>\n",
       "</div>"
      ],
      "text/plain": [
       "                   facebook/s2t-large-librispeech-asr  \\\n",
       "0              A MAN SAID TO THE UNIVERSE SIR I EXIST   \n",
       "1   SWEAT COVERED BRION'S BODY TRICKLING INTO THE ...   \n",
       "2   THE CUT ON HIS CHEST STILL DRIPPING BLOOD THE ...   \n",
       "3   HIS INSTANT PANIC WAS FOLLOWED BY A SMALL SHAR...   \n",
       "4   ONE MINUTE A VOICE SAID AND A TIME BUZZER SOUNDED   \n",
       "..                                                ...   \n",
       "68  I DON'T BELIEVE ANNE KNEW ANY MAGIC OR SHE'D H...   \n",
       "69                     I DO NOT KNOW CONFESSED SHAGGY   \n",
       "70                                 TRUE AGREED KALIKO   \n",
       "71  KALIKO WENT TO THE BIG GONG AND POUNDED ON IT ...   \n",
       "72  HAVING RETURNED TO THE ROYAL CAVERN KALIKO FIR...   \n",
       "\n",
       "    facebook/s2t-large-librispeech-asr_inf_time  \\\n",
       "0                                      2.873919   \n",
       "1                                      3.680889   \n",
       "2                                      7.644466   \n",
       "3                                      3.364908   \n",
       "4                                      2.906659   \n",
       "..                                          ...   \n",
       "68                                     2.605747   \n",
       "69                                     1.352835   \n",
       "70                                     1.373060   \n",
       "71                                     4.733405   \n",
       "72                                     8.857709   \n",
       "\n",
       "                                         ground_truth  \n",
       "0              A MAN SAID TO THE UNIVERSE SIR I EXIST  \n",
       "1   SWEAT COVERED BRION'S BODY TRICKLING INTO THE ...  \n",
       "2   THE CUT ON HIS CHEST STILL DRIPPING BLOOD THE ...  \n",
       "3   HIS INSTANT OF PANIC WAS FOLLOWED BY A SMALL S...  \n",
       "4   ONE MINUTE A VOICE SAID AND THE TIME BUZZER SO...  \n",
       "..                                                ...  \n",
       "68  I DON'T BELIEVE ANN KNEW ANY MAGIC OR SHE'D HA...  \n",
       "69                     I DO NOT KNOW CONFESSED SHAGGY  \n",
       "70                                 TRUE AGREED KALIKO  \n",
       "71  KALIKO WENT TO THE BIG GONG AND POUNDED ON IT ...  \n",
       "72  HAVING RETURNED TO THE ROYAL CAVERN KALIKO FIR...  \n",
       "\n",
       "[73 rows x 3 columns]"
      ]
     },
     "execution_count": 6,
     "metadata": {},
     "output_type": "execute_result"
    }
   ],
   "source": [
    "# df_transcriptions = pd.read_csv(PATH_TRANSCRIPTIONS, index_col=0)\n",
    "\n",
    "df_transcriptions = pd.DataFrame()\n",
    "\n",
    "df_transcriptions[pre_train_file] = all_transcriptions\n",
    "df_transcriptions[pre_train_file] = df_transcriptions[pre_train_file].apply(lambda x: x.upper())\n",
    "df_transcriptions[pre_train_file + \"_inf_time\"] = inference_time\n",
    "df_transcriptions['ground_truth'] = texts\n",
    "\n",
    "df_transcriptions"
   ]
  },
  {
   "cell_type": "code",
   "execution_count": 8,
   "metadata": {},
   "outputs": [],
   "source": [
    "df_transcriptions.to_csv(PATH_TRANSCRIPTIONS)"
   ]
  },
  {
   "cell_type": "code",
   "execution_count": null,
   "metadata": {},
   "outputs": [],
   "source": []
  },
  {
   "cell_type": "code",
   "execution_count": null,
   "metadata": {},
   "outputs": [],
   "source": []
  }
 ],
 "metadata": {
  "interpreter": {
   "hash": "5c2ce831557fa99f16e2df148dedeb6f006d99c60abbc25b37fbca229f1b7eaa"
  },
  "kernelspec": {
   "display_name": "Python 3",
   "language": "python",
   "name": "python3"
  },
  "language_info": {
   "codemirror_mode": {
    "name": "ipython",
    "version": 3
   },
   "file_extension": ".py",
   "mimetype": "text/x-python",
   "name": "python",
   "nbconvert_exporter": "python",
   "pygments_lexer": "ipython3",
   "version": "3.8.5"
  }
 },
 "nbformat": 4,
 "nbformat_minor": 2
}
