{
 "cells": [
  {
   "cell_type": "code",
   "execution_count": 11,
   "metadata": {},
   "outputs": [],
   "source": [
    "import deepspeech\n",
    "from datasets import load_dataset\n",
    "import numpy as np\n",
    "import pandas as pd\n",
    "\n",
    "\n"
   ]
  },
  {
   "cell_type": "code",
   "execution_count": null,
   "metadata": {},
   "outputs": [],
   "source": [
    "PATH_TRANSCRIPTIONS = \"./../eval/transcriptions.csv\"\n",
    "pre_train_file = 'deepspeech-0.9.3-models.pbmm'\n",
    "beam_width = 300\n",
    "model = deepspeech.Model(model_file_path)"
   ]
  },
  {
   "cell_type": "code",
   "execution_count": 13,
   "metadata": {},
   "outputs": [
    {
     "name": "stdout",
     "output_type": "stream",
     "text": [
      "16000\n",
      "16000\n"
     ]
    },
    {
     "data": {
      "text/plain": [
       "bytes"
      ]
     },
     "execution_count": 13,
     "metadata": {},
     "output_type": "execute_result"
    }
   ],
   "source": [
    "import wave\n",
    "filename = 'example.wav'\n",
    "w = wave.open(filename, 'r')\n",
    "rate = w.getframerate()\n",
    "frames = w.getnframes()\n",
    "buffer = w.readframes(frames)\n",
    "print(rate)\n",
    "print(model.sampleRate())\n",
    "type(buffer)"
   ]
  },
  {
   "cell_type": "code",
   "execution_count": null,
   "metadata": {},
   "outputs": [],
   "source": [
    "# define function to read in sound file\n",
    "def map_to_array(batch):\n",
    "    speech, _ = sf.read(batch[\"file\"])\n",
    "    batch[\"speech\"] = speech\n",
    "    return batch\n",
    "    \n",
    "# load dummy dataset and read soundfiles\n",
    "ds = load_dataset(\"patrickvonplaten/librispeech_asr_dummy\", \"clean\", split=\"validation\")\n",
    "ds = ds.map(map_to_array)"
   ]
  },
  {
   "cell_type": "code",
   "execution_count": null,
   "metadata": {},
   "outputs": [],
   "source": [
    "\n",
    "# initialize constants\n",
    "transcriptions = []\n",
    "error = []\n",
    "inference_time = []\n",
    "\n",
    "len_ds = len(ds[\"text\"])\n",
    "BATCH_SIZE = 1\n",
    "\n",
    "\n",
    "\n",
    "for i in range(len_ds//BATCH_SIZE):\n",
    "\n",
    "    # import audio\n",
    "    audio = ds[\"speech\"][i*BATCH_SIZE:(i+1)*BATCH_SIZE]\n",
    "\n",
    "    # count time of inference\n",
    "    start = time.time()\n",
    "    \n",
    "    # tokenize\n",
    "    input_values = processor(audio, sampling_rate=16000, return_tensors=\"pt\", padding=\"longest\").input_values  # Batch size 1\n",
    "\n",
    "    # retrieve logits\n",
    "    with torch.no_grad():\n",
    "        logits = model(input_values).logits\n",
    "\n",
    "    # take argmax and decode\n",
    "    predicted_ids = torch.argmax(logits, dim=-1)\n",
    "    transcription = processor.batch_decode(predicted_ids)\n",
    "\n",
    "    # store time of inference\n",
    "    inference_time.append(time.time() - start)\n",
    "\n",
    "    # store transcription\n",
    "    transcriptions.append(transcription)\n",
    "\n",
    "transcriptions = list(np.array(transcriptions).reshape(-1))"
   ]
  },
  {
   "cell_type": "code",
   "execution_count": null,
   "metadata": {},
   "outputs": [],
   "source": [
    "df_transcriptions = pd.DataFrame(ds[\"text\"][:len_ds], columns=['ground_truth'])\n",
    "df_transcriptions[pre_train_file] = transcriptions\n",
    "df_transcriptions[pre_train_file + \"_inf_time\"] = inference_time\n",
    "\n",
    "\n",
    "df_transcriptions[pre_train_file] = df_transcriptions[pre_train_file].apply(lambda x: x.upper())"
   ]
  },
  {
   "cell_type": "code",
   "execution_count": null,
   "metadata": {},
   "outputs": [],
   "source": [
    "df_transcriptions"
   ]
  },
  {
   "cell_type": "code",
   "execution_count": 19,
   "metadata": {},
   "outputs": [
    {
     "name": "stdout",
     "output_type": "stream",
     "text": [
      "(78480,)\n"
     ]
    }
   ],
   "source": [
    "import numpy as np\n",
    "data16 = np.frombuffer(buffer, dtype=np.int16)\n",
    "type(data16)\n",
    "print(data16.shape)"
   ]
  },
  {
   "cell_type": "code",
   "execution_count": 15,
   "metadata": {},
   "outputs": [
    {
     "name": "stdout",
     "output_type": "stream",
     "text": [
      "he began ta confused complaint against the wizard who advantished behind the curtain on the left\n"
     ]
    }
   ],
   "source": [
    "text = model.stt(data16)\n",
    "print(text)"
   ]
  },
  {
   "cell_type": "code",
   "execution_count": null,
   "metadata": {},
   "outputs": [],
   "source": []
  }
 ],
 "metadata": {
  "interpreter": {
   "hash": "8a047d1d2cef74e4a53dd0873183d5ebe1a63bdf7228cb5694352411dbd7dea4"
  },
  "kernelspec": {
   "display_name": "Python 3",
   "language": "python",
   "name": "python3"
  },
  "language_info": {
   "codemirror_mode": {
    "name": "ipython",
    "version": 3
   },
   "file_extension": ".py",
   "mimetype": "text/x-python",
   "name": "python",
   "nbconvert_exporter": "python",
   "pygments_lexer": "ipython3",
   "version": "3.8.3"
  }
 },
 "nbformat": 4,
 "nbformat_minor": 2
}
