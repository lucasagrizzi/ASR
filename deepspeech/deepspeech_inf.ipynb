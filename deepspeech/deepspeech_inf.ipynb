{
 "cells": [
  {
   "cell_type": "code",
   "execution_count": 1,
   "metadata": {},
   "outputs": [],
   "source": [
    "import deepspeech\n",
    "from datasets import load_dataset\n",
    "import numpy as np\n",
    "import pandas as pd\n",
    "import soundfile as sf\n",
    "import time\n"
   ]
  },
  {
   "cell_type": "code",
   "execution_count": 2,
   "metadata": {},
   "outputs": [],
   "source": [
    "PATH_TRANSCRIPTIONS = \"transcriptions.csv\"\n",
    "pre_train_file = 'deepspeech-0.9.3-models.pbmm'\n",
    "beam_width = 300\n",
    "model = deepspeech.Model(pre_train_file)"
   ]
  },
  {
   "cell_type": "code",
   "execution_count": 3,
   "metadata": {},
   "outputs": [
    {
     "name": "stderr",
     "output_type": "stream",
     "text": [
      "Reusing dataset librispeech_asr (/home/lucasagrizzi/.cache/huggingface/datasets/patrickvonplaten___librispeech_asr/clean/2.1.0/f2c70a4d03ab4410954901bde48c54b85ca1b7f9bf7d616e7e2a72b5ee6ddbfc)\n",
      "Loading cached processed dataset at /home/lucasagrizzi/.cache/huggingface/datasets/patrickvonplaten___librispeech_asr/clean/2.1.0/f2c70a4d03ab4410954901bde48c54b85ca1b7f9bf7d616e7e2a72b5ee6ddbfc/cache-361ab9f8e626e5d4.arrow\n"
     ]
    }
   ],
   "source": [
    "# define function to read in sound file\n",
    "def map_to_array(batch):\n",
    "    speech, _ = sf.read(batch[\"file\"])\n",
    "    batch[\"speech\"] = speech\n",
    "    return batch\n",
    "    \n",
    "# load dummy dataset and read soundfiles\n",
    "ds = load_dataset(\"patrickvonplaten/librispeech_asr_dummy\", \"clean\", split=\"validation\")\n",
    "ds = ds.map(map_to_array)"
   ]
  },
  {
   "cell_type": "code",
   "execution_count": null,
   "metadata": {},
   "outputs": [],
   "source": [
    "\n",
    "# initialize constants\n",
    "transcriptions = []\n",
    "error = []\n",
    "inference_time = []\n",
    "texts = []\n",
    "\n",
    "len_ds = len(ds[\"text\"])\n",
    "BATCH_SIZE = 1\n",
    "\n",
    "\n",
    "for i in range(len_ds//BATCH_SIZE):\n",
    "\n",
    "    # import audio\n",
    "    texts.append(ds['text'][i])\n",
    "    audio = ds[\"speech\"][i]\n",
    "    audio = np.array(audio)\n",
    "    a = audio + np.abs(audio.min())\n",
    "    a = (a * 1024).astype(np.int16)\n",
    "    # count time of inference\n",
    "    start = time.time()\n",
    "    \n",
    "    transcription = model.stt(a)\n",
    "\n",
    "    # store time of inference\n",
    "    inference_time.append(time.time() - start)\n",
    "\n",
    "    # store transcription\n",
    "    transcriptions.append(transcription)\n",
    "\n",
    "all_transcriptions = list(np.array(transcriptions).reshape(-1))"
   ]
  },
  {
   "cell_type": "code",
   "execution_count": null,
   "metadata": {},
   "outputs": [],
   "source": [
    "# df_transcriptions = pd.read_csv(PATH_TRANSCRIPTIONS, index_col=0)\n",
    "df_transcriptions = pd.DataFrame()\n",
    "\n",
    "df_transcriptions[pre_train_file] = all_transcriptions\n",
    "df_transcriptions[pre_train_file] = df_transcriptions[pre_train_file].apply(lambda x: x.upper())\n",
    "\n",
    "df_transcriptions[pre_train_file + \"_inf_time\"] = inference_time\n",
    "df_transcriptions['ground_truth'] = texts\n",
    "df_transcriptions"
   ]
  },
  {
   "cell_type": "code",
   "execution_count": null,
   "metadata": {},
   "outputs": [],
   "source": [
    "df_transcriptions.to_csv(PATH_TRANSCRIPTIONS)"
   ]
  },
  {
   "cell_type": "code",
   "execution_count": null,
   "metadata": {},
   "outputs": [],
   "source": [
    "# import numpy as np\n",
    "# import wave\n",
    "# filename = 'example.wav'\n",
    "# w = wave.open(filename, 'r')\n",
    "# rate = w.getframerate()\n",
    "# frames = w.getnframes()\n",
    "# buffer = w.readframes(frames)\n",
    "# print(rate)\n",
    "# print(model.sampleRate())\n",
    "# type(buffer)\n",
    "# data16 = np.frombuffer(buffer, dtype=np.int16)\n",
    "# type(data16)\n",
    "# print(data16.shape)\n",
    "# text = model.stt(data16)\n",
    "# print(text)"
   ]
  }
 ],
 "metadata": {
  "interpreter": {
   "hash": "8a047d1d2cef74e4a53dd0873183d5ebe1a63bdf7228cb5694352411dbd7dea4"
  },
  "kernelspec": {
   "display_name": "Python 3",
   "language": "python",
   "name": "python3"
  },
  "language_info": {
   "codemirror_mode": {
    "name": "ipython",
    "version": 3
   },
   "file_extension": ".py",
   "mimetype": "text/x-python",
   "name": "python",
   "nbconvert_exporter": "python",
   "pygments_lexer": "ipython3",
   "version": "3.8.3"
  }
 },
 "nbformat": 4,
 "nbformat_minor": 2
}
